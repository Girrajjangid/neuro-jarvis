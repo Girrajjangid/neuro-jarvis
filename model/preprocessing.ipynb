{
 "cells": [
  {
   "cell_type": "code",
   "execution_count": 5,
   "metadata": {},
   "outputs": [
    {
     "data": {
      "text/plain": [
       "'d:\\\\jupyter notebook\\\\Hackathon\\\\Neuro-Bot'"
      ]
     },
     "execution_count": 5,
     "metadata": {},
     "output_type": "execute_result"
    }
   ],
   "source": [
    "import pandas as pd\n",
    "import collections\n",
    "import json\n",
    "from datetime import datetime\n",
    "import glob, os, sys, calendar\n",
    "os.environ['TZ'] = 'Asia/Calcutta'\n",
    "\n",
    "try:\n",
    "    #base_path = \"D:/jupyter notebook/Hackathon/Neuro-Bot\"\n",
    "    #master_path2 =  os.path.dirname(os.path.realpath(__file__))\n",
    "    master_path2 = os.getcwd()\n",
    "    location2    = int(master_path2.find(\"Neuro-Bot\"))\n",
    "    base_path    = master_path2[0:location2] + 'Neuro-Bot'\n",
    "    sys.path.insert(0, base_path)\n",
    "except Exception as e:\n",
    "    print(e)\n",
    "    pass\n",
    "base_path"
   ]
  },
  {
   "cell_type": "code",
   "execution_count": null,
   "metadata": {},
   "outputs": [],
   "source": [
    "# Data Reading\n",
    "df = pd.read_json(f\"{base_path}/dataset/messages.json\")\n",
    "df2 = df[['conversations']]"
   ]
  },
  {
   "cell_type": "code",
   "execution_count": null,
   "metadata": {},
   "outputs": [],
   "source": [
    "# df[['conversations']].iloc[:5000].to_csv(f\"{base_path}/dataset/messages_1.csv\")\n",
    "# df[['conversations']].iloc[5000:10000].to_csv(f\"{base_path}/dataset/messages_2.csv\")\n",
    "# df[['conversations']].iloc[10000:].to_csv(f\"{base_path}/dataset/messages_3.csv\")"
   ]
  },
  {
   "cell_type": "code",
   "execution_count": null,
   "metadata": {},
   "outputs": [],
   "source": [
    "# 1. Each row has its own unique name which present in displayName\n",
    "# 2. conversationblocked is False in properties"
   ]
  },
  {
   "cell_type": "code",
   "execution_count": null,
   "metadata": {},
   "outputs": [],
   "source": [
    "# id , displayName, version, properties.conversationblocked, MessageList"
   ]
  },
  {
   "cell_type": "code",
   "execution_count": null,
   "metadata": {},
   "outputs": [],
   "source": [
    "df2['displayName'] = df2.conversations.apply( lambda x: x['displayName'])\n",
    "df2['version'] = df2.conversations.apply( lambda x: x['version'])\n",
    "df2['conversationblocked'] = df2.conversations.apply( lambda x: x['properties']['conversationblocked'])\n",
    "df2['conversationstatus'] = df2.conversations.apply( lambda x: x['properties']['conversationstatus'])\n",
    "\n",
    "#[df2[i].nunique() for i in df2.columns.tolist()]\n",
    "#df2['displayName'].nunique() # 14829\n",
    "#df2.version.nunique() # 16239\n",
    "#df2.conversationstatus.value_counts()\n",
    "#df2.head()"
   ]
  },
  {
   "cell_type": "code",
   "execution_count": null,
   "metadata": {},
   "outputs": [],
   "source": [
    "for index in range(0,2):\n",
    "    for val in df2.conversations[index].keys():\n",
    "        print(val)\n",
    "        if val != 'MessageList':\n",
    "            print(\"\\t\", df2.conversations[index][val])\n",
    "    print('----------------------------------')"
   ]
  },
  {
   "cell_type": "code",
   "execution_count": null,
   "metadata": {},
   "outputs": [],
   "source": [
    "final_df = pd.DataFrame()\n",
    "for idx, val in df2.iterrows():\n",
    "    try:\n",
    "        name = val.displayName\n",
    "        temp = pd.DataFrame(val.conversations['MessageList'])[['displayName', 'originalarrivaltime', 'messagetype', 'content']]\n",
    "        temp = temp.loc[temp.messagetype == 'RichText']\n",
    "        if not len(temp) and temp.displayName.nunique() > 2:\n",
    "            continue\n",
    "        temp = temp.sort_values('originalarrivaltime',ascending=True)\n",
    "        s = temp['displayName'].isnull()\n",
    "        temp = (temp.groupby([s.cumsum(),s], sort=False)\n",
    "        .agg({'displayName':'first', 'originalarrivaltime':'first', 'content': '. '.join})\n",
    "        .reset_index(drop=True)\n",
    "        )\n",
    "        s = temp['displayName'].eq(name)\n",
    "        temp = (temp.groupby([s.cumsum(),s], sort=False)\n",
    "        .agg({'displayName':'first', 'originalarrivaltime':'first', 'content': '. '.join})\n",
    "        .reset_index(drop=True)\n",
    "        )\n",
    "        temp = temp.pivot(columns='displayName', values='content')\n",
    "        temp.columns = temp.columns.astype(str)\n",
    "        if isinstance(temp[name].iloc[0], str):\n",
    "            temp = pd.concat([temp[name], temp[['nan']].shift(-1).reset_index(drop=True)], axis=1).dropna()\n",
    "        else:\n",
    "            temp = pd.concat([temp['nan'], temp[[name]].shift(-1).reset_index(drop=True)], axis=1).dropna()\n",
    "        temp = temp.rename({name:\"question\", \"nan\":\"answer\"}, axis=1)\n",
    "        final_df = final_df.append(temp, ignore_index=True)\n",
    "    except:\n",
    "        #print(idx)\n",
    "        pass\n",
    "    "
   ]
  },
  {
   "cell_type": "code",
   "execution_count": null,
   "metadata": {},
   "outputs": [],
   "source": [
    "final_df = final_df.dropna().drop_duplicates()\n",
    "final_df.to_csv(f\"{base_path}/dataset/processed.csv\", index=False)"
   ]
  },
  {
   "cell_type": "markdown",
   "metadata": {},
   "source": [
    "#### Reading saved dataframe"
   ]
  },
  {
   "cell_type": "code",
   "execution_count": null,
   "metadata": {},
   "outputs": [],
   "source": [
    "df = pd.read_csv(f\"{base_path}/dataset/processed.csv\")"
   ]
  },
  {
   "cell_type": "code",
   "execution_count": null,
   "metadata": {},
   "outputs": [],
   "source": [
    "from sentence_transformers import SentenceTransformer, util\n",
    "model = SentenceTransformer('all-MiniLM-L6-v2')"
   ]
  },
  {
   "cell_type": "code",
   "execution_count": null,
   "metadata": {},
   "outputs": [],
   "source": [
    "\n",
    "\n",
    "# Single list of sentences\n",
    "sentences = ['The cat sits outside',\n",
    "             'A man is playing guitar',\n",
    "             'I love pasta',\n",
    "             'The new movie is awesome',\n",
    "             'The cat plays in the garden',\n",
    "             'A woman watches TV',\n",
    "             'The new movie is so great',\n",
    "             'Do you like pizza?']\n",
    "\n",
    "#Compute embeddings\n",
    "embeddings = model.encode(sentences, convert_to_tensor=True)\n",
    "\n",
    "#Compute cosine-similarities for each sentence with each other sentence\n",
    "cosine_scores = util.cos_sim(embeddings, embeddings)\n",
    "\n",
    "#Find the pairs with the highest cosine similarity scores\n",
    "pairs = []\n",
    "for i in range(len(cosine_scores)-1):\n",
    "    for j in range(i+1, len(cosine_scores)):\n",
    "        pairs.append({'index': [i, j], 'score': cosine_scores[i][j]})\n",
    "\n",
    "#Sort scores in decreasing order\n",
    "pairs = sorted(pairs, key=lambda x: x['score'], reverse=True)\n",
    "\n",
    "for pair in pairs[0:10]:\n",
    "    i, j = pair['index']\n",
    "    print(\"{} \\t\\t {} \\t\\t Score: {:.4f}\".format(sentences[i], sentences[j], pair['score']))"
   ]
  }
 ],
 "metadata": {
  "kernelspec": {
   "display_name": "Python 3.8.8 ('base')",
   "language": "python",
   "name": "python3"
  },
  "language_info": {
   "codemirror_mode": {
    "name": "ipython",
    "version": 3
   },
   "file_extension": ".py",
   "mimetype": "text/x-python",
   "name": "python",
   "nbconvert_exporter": "python",
   "pygments_lexer": "ipython3",
   "version": "3.8.8"
  },
  "orig_nbformat": 4,
  "vscode": {
   "interpreter": {
    "hash": "ad2bdc8ecc057115af97d19610ffacc2b4e99fae6737bb82f5d7fb13d2f2c186"
   }
  }
 },
 "nbformat": 4,
 "nbformat_minor": 2
}
