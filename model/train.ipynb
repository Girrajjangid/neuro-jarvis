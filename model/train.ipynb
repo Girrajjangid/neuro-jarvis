{
 "cells": [
  {
   "cell_type": "code",
   "execution_count": 1,
   "metadata": {},
   "outputs": [
    {
     "data": {
      "text/plain": [
       "'d:\\\\jupyter notebook\\\\Hackathon\\\\Neuro-Bot'"
      ]
     },
     "execution_count": 1,
     "metadata": {},
     "output_type": "execute_result"
    }
   ],
   "source": [
    "import pandas as pd\n",
    "import glob, os, sys, calendar\n",
    "os.environ['TZ'] = 'Asia/Calcutta'\n",
    "\n",
    "try:\n",
    "    #base_path = \"D:/jupyter notebook/Hackathon/Neuro-Bot\"\n",
    "    #master_path2 =  os.path.dirname(os.path.realpath(__file__))\n",
    "    master_path2 = os.getcwd()\n",
    "    location2    = int(master_path2.find(\"Neuro-Bot\"))\n",
    "    base_path    = master_path2[0:location2] + 'Neuro-Bot'\n",
    "    sys.path.insert(0, base_path)\n",
    "except Exception as e:\n",
    "    print(e)\n",
    "    pass\n",
    "base_path"
   ]
  },
  {
   "cell_type": "code",
   "execution_count": 3,
   "metadata": {},
   "outputs": [],
   "source": [
    "df = pd.read_csv(f'{base_path}/dataset/processed.csv')"
   ]
  },
  {
   "cell_type": "code",
   "execution_count": null,
   "metadata": {},
   "outputs": [],
   "source": [
    "import torch\n",
    "from sentence_transformers import SentenceTransformer, util\n",
    "model = SentenceTransformer('all-MiniLM-L6-v2')"
   ]
  },
  {
   "cell_type": "code",
   "execution_count": null,
   "metadata": {},
   "outputs": [],
   "source": [
    "# Model Trained and saved\n",
    "embeddings1 = model.encode(df['question'].astype(str), convert_to_tensor=True)\n",
    "torch.save(embeddings1, f'{base_path}/dataset/embedding.pt')"
   ]
  }
 ],
 "metadata": {
  "kernelspec": {
   "display_name": "Python 3.8.8 ('base')",
   "language": "python",
   "name": "python3"
  },
  "language_info": {
   "codemirror_mode": {
    "name": "ipython",
    "version": 3
   },
   "file_extension": ".py",
   "mimetype": "text/x-python",
   "name": "python",
   "nbconvert_exporter": "python",
   "pygments_lexer": "ipython3",
   "version": "3.8.8"
  },
  "orig_nbformat": 4,
  "vscode": {
   "interpreter": {
    "hash": "ad2bdc8ecc057115af97d19610ffacc2b4e99fae6737bb82f5d7fb13d2f2c186"
   }
  }
 },
 "nbformat": 4,
 "nbformat_minor": 2
}
