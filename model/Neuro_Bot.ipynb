{
  "nbformat": 4,
  "nbformat_minor": 0,
  "metadata": {
    "colab": {
      "provenance": []
    },
    "kernelspec": {
      "name": "python3",
      "display_name": "Python 3"
    },
    "language_info": {
      "name": "python"
    },
    "accelerator": "GPU"
  },
  "cells": [
    {
      "cell_type": "code",
      "execution_count": 1,
      "metadata": {
        "colab": {
          "base_uri": "https://localhost:8080/"
        },
        "id": "48nzSnEt_v2p",
        "outputId": "06f05639-6e91-4adc-d53d-f0435b4c024a"
      },
      "outputs": [
        {
          "output_type": "stream",
          "name": "stdout",
          "text": [
            "Mounted at /content/drive\n"
          ]
        }
      ],
      "source": [
        "from google.colab import drive\n",
        "drive.mount('/content/drive')"
      ]
    },
    {
      "cell_type": "code",
      "source": [
        "import os\n",
        "path = \"/content/drive/My Drive/hackathon/\"\n",
        "os.chdir(path)"
      ],
      "metadata": {
        "id": "2tAxBfZGA5SJ"
      },
      "execution_count": 2,
      "outputs": []
    },
    {
      "cell_type": "code",
      "source": [
        "%ls"
      ],
      "metadata": {
        "colab": {
          "base_uri": "https://localhost:8080/"
        },
        "id": "fe7a0HRHBTBt",
        "outputId": "1bd0182b-0921-4cb6-a1ba-3cd742b105d6"
      },
      "execution_count": 4,
      "outputs": [
        {
          "output_type": "stream",
          "name": "stdout",
          "text": [
            "\u001b[0m\u001b[01;34mneuro-bot\u001b[0m/\n"
          ]
        }
      ]
    },
    {
      "cell_type": "code",
      "source": [
        "%cd neuro-bot"
      ],
      "metadata": {
        "colab": {
          "base_uri": "https://localhost:8080/"
        },
        "id": "MQBsdf5jBVBS",
        "outputId": "9e365384-40f0-4f0a-d0ce-ac066844ec3a"
      },
      "execution_count": 5,
      "outputs": [
        {
          "output_type": "stream",
          "name": "stdout",
          "text": [
            "/content/drive/MyDrive/hackathon/neuro-bot\n"
          ]
        }
      ]
    },
    {
      "cell_type": "code",
      "source": [
        "import pandas as pd"
      ],
      "metadata": {
        "id": "7y5WGeMTBs1t"
      },
      "execution_count": 6,
      "outputs": []
    },
    {
      "cell_type": "code",
      "source": [
        "pd.__version__"
      ],
      "metadata": {
        "colab": {
          "base_uri": "https://localhost:8080/",
          "height": 35
        },
        "id": "C7bz5dpuLekO",
        "outputId": "34ff5c9d-512d-4b23-8e47-8580f8cb1c2a"
      },
      "execution_count": 7,
      "outputs": [
        {
          "output_type": "execute_result",
          "data": {
            "text/plain": [
              "'1.3.5'"
            ],
            "application/vnd.google.colaboratory.intrinsic+json": {
              "type": "string"
            }
          },
          "metadata": {},
          "execution_count": 7
        }
      ]
    },
    {
      "cell_type": "code",
      "source": [
        "df = pd.read_csv('dataset/processed.csv')"
      ],
      "metadata": {
        "id": "2qZDPZKtBZEp"
      },
      "execution_count": 19,
      "outputs": []
    },
    {
      "cell_type": "code",
      "source": [
        "!pip install -U sentence-transformers"
      ],
      "metadata": {
        "id": "-90g11bj4NCK"
      },
      "execution_count": null,
      "outputs": []
    },
    {
      "cell_type": "code",
      "source": [
        "df.sort_values('question')"
      ],
      "metadata": {
        "colab": {
          "base_uri": "https://localhost:8080/",
          "height": 424
        },
        "id": "OEYv-ypRCD6X",
        "outputId": "443ab201-f108-43a9-ed1c-9a4664ce0fe2"
      },
      "execution_count": 60,
      "outputs": [
        {
          "output_type": "execute_result",
          "data": {
            "text/plain": [
              "                                                 question  \\\n",
              "280096  \\t\\n8. Recognize the following three blocks in...   \n",
              "356864  \\t have a basic i3 core laptop . should I go f...   \n",
              "257624  \\t<a href=\"mailto:harshadapatke111@gmail.com\">...   \n",
              "127306  \\tThe directory D:\\ML Everything\\Ineuron\\Prev\\...   \n",
              "100021  \\tUnnamed: 0\\tPregnancies\\tGlucose\\tBloodPress...   \n",
              "...                                                   ...   \n",
              "445443                                                NaN   \n",
              "448855                                                NaN   \n",
              "451561                                                NaN   \n",
              "455785                                                NaN   \n",
              "456621                                                NaN   \n",
              "\n",
              "                                                   answer  \n",
              "280096  Will have a look at the question sir. Please m...  \n",
              "356864                         no its fine . it will work  \n",
              "257624  you have been shifted to AIops. please check t...  \n",
              "127306                                   ok wait. ok sir.  \n",
              "100021  df.drop()<e_m a=\"live:.cid.4933a22bf564744\" ts...  \n",
              "...                                                   ...  \n",
              "445443  <quote author=\"live:nitishkmr.1989\" authorname...  \n",
              "448855  Hello Mam,\\n\\nThe required data set is uploade...  \n",
              "451561                                       welcome sir   \n",
              "455785                        Hello. State your query sir  \n",
              "456621                                     Yes please ask  \n",
              "\n",
              "[462429 rows x 2 columns]"
            ],
            "text/html": [
              "\n",
              "  <div id=\"df-fcbcf9d8-ab4f-4469-a848-7742f1870b22\">\n",
              "    <div class=\"colab-df-container\">\n",
              "      <div>\n",
              "<style scoped>\n",
              "    .dataframe tbody tr th:only-of-type {\n",
              "        vertical-align: middle;\n",
              "    }\n",
              "\n",
              "    .dataframe tbody tr th {\n",
              "        vertical-align: top;\n",
              "    }\n",
              "\n",
              "    .dataframe thead th {\n",
              "        text-align: right;\n",
              "    }\n",
              "</style>\n",
              "<table border=\"1\" class=\"dataframe\">\n",
              "  <thead>\n",
              "    <tr style=\"text-align: right;\">\n",
              "      <th></th>\n",
              "      <th>question</th>\n",
              "      <th>answer</th>\n",
              "    </tr>\n",
              "  </thead>\n",
              "  <tbody>\n",
              "    <tr>\n",
              "      <th>280096</th>\n",
              "      <td>\\t\\n8. Recognize the following three blocks in...</td>\n",
              "      <td>Will have a look at the question sir. Please m...</td>\n",
              "    </tr>\n",
              "    <tr>\n",
              "      <th>356864</th>\n",
              "      <td>\\t have a basic i3 core laptop . should I go f...</td>\n",
              "      <td>no its fine . it will work</td>\n",
              "    </tr>\n",
              "    <tr>\n",
              "      <th>257624</th>\n",
              "      <td>\\t&lt;a href=\"mailto:harshadapatke111@gmail.com\"&gt;...</td>\n",
              "      <td>you have been shifted to AIops. please check t...</td>\n",
              "    </tr>\n",
              "    <tr>\n",
              "      <th>127306</th>\n",
              "      <td>\\tThe directory D:\\ML Everything\\Ineuron\\Prev\\...</td>\n",
              "      <td>ok wait. ok sir.</td>\n",
              "    </tr>\n",
              "    <tr>\n",
              "      <th>100021</th>\n",
              "      <td>\\tUnnamed: 0\\tPregnancies\\tGlucose\\tBloodPress...</td>\n",
              "      <td>df.drop()&lt;e_m a=\"live:.cid.4933a22bf564744\" ts...</td>\n",
              "    </tr>\n",
              "    <tr>\n",
              "      <th>...</th>\n",
              "      <td>...</td>\n",
              "      <td>...</td>\n",
              "    </tr>\n",
              "    <tr>\n",
              "      <th>445443</th>\n",
              "      <td>NaN</td>\n",
              "      <td>&lt;quote author=\"live:nitishkmr.1989\" authorname...</td>\n",
              "    </tr>\n",
              "    <tr>\n",
              "      <th>448855</th>\n",
              "      <td>NaN</td>\n",
              "      <td>Hello Mam,\\n\\nThe required data set is uploade...</td>\n",
              "    </tr>\n",
              "    <tr>\n",
              "      <th>451561</th>\n",
              "      <td>NaN</td>\n",
              "      <td>welcome sir</td>\n",
              "    </tr>\n",
              "    <tr>\n",
              "      <th>455785</th>\n",
              "      <td>NaN</td>\n",
              "      <td>Hello. State your query sir</td>\n",
              "    </tr>\n",
              "    <tr>\n",
              "      <th>456621</th>\n",
              "      <td>NaN</td>\n",
              "      <td>Yes please ask</td>\n",
              "    </tr>\n",
              "  </tbody>\n",
              "</table>\n",
              "<p>462429 rows × 2 columns</p>\n",
              "</div>\n",
              "      <button class=\"colab-df-convert\" onclick=\"convertToInteractive('df-fcbcf9d8-ab4f-4469-a848-7742f1870b22')\"\n",
              "              title=\"Convert this dataframe to an interactive table.\"\n",
              "              style=\"display:none;\">\n",
              "        \n",
              "  <svg xmlns=\"http://www.w3.org/2000/svg\" height=\"24px\"viewBox=\"0 0 24 24\"\n",
              "       width=\"24px\">\n",
              "    <path d=\"M0 0h24v24H0V0z\" fill=\"none\"/>\n",
              "    <path d=\"M18.56 5.44l.94 2.06.94-2.06 2.06-.94-2.06-.94-.94-2.06-.94 2.06-2.06.94zm-11 1L8.5 8.5l.94-2.06 2.06-.94-2.06-.94L8.5 2.5l-.94 2.06-2.06.94zm10 10l.94 2.06.94-2.06 2.06-.94-2.06-.94-.94-2.06-.94 2.06-2.06.94z\"/><path d=\"M17.41 7.96l-1.37-1.37c-.4-.4-.92-.59-1.43-.59-.52 0-1.04.2-1.43.59L10.3 9.45l-7.72 7.72c-.78.78-.78 2.05 0 2.83L4 21.41c.39.39.9.59 1.41.59.51 0 1.02-.2 1.41-.59l7.78-7.78 2.81-2.81c.8-.78.8-2.07 0-2.86zM5.41 20L4 18.59l7.72-7.72 1.47 1.35L5.41 20z\"/>\n",
              "  </svg>\n",
              "      </button>\n",
              "      \n",
              "  <style>\n",
              "    .colab-df-container {\n",
              "      display:flex;\n",
              "      flex-wrap:wrap;\n",
              "      gap: 12px;\n",
              "    }\n",
              "\n",
              "    .colab-df-convert {\n",
              "      background-color: #E8F0FE;\n",
              "      border: none;\n",
              "      border-radius: 50%;\n",
              "      cursor: pointer;\n",
              "      display: none;\n",
              "      fill: #1967D2;\n",
              "      height: 32px;\n",
              "      padding: 0 0 0 0;\n",
              "      width: 32px;\n",
              "    }\n",
              "\n",
              "    .colab-df-convert:hover {\n",
              "      background-color: #E2EBFA;\n",
              "      box-shadow: 0px 1px 2px rgba(60, 64, 67, 0.3), 0px 1px 3px 1px rgba(60, 64, 67, 0.15);\n",
              "      fill: #174EA6;\n",
              "    }\n",
              "\n",
              "    [theme=dark] .colab-df-convert {\n",
              "      background-color: #3B4455;\n",
              "      fill: #D2E3FC;\n",
              "    }\n",
              "\n",
              "    [theme=dark] .colab-df-convert:hover {\n",
              "      background-color: #434B5C;\n",
              "      box-shadow: 0px 1px 3px 1px rgba(0, 0, 0, 0.15);\n",
              "      filter: drop-shadow(0px 1px 2px rgba(0, 0, 0, 0.3));\n",
              "      fill: #FFFFFF;\n",
              "    }\n",
              "  </style>\n",
              "\n",
              "      <script>\n",
              "        const buttonEl =\n",
              "          document.querySelector('#df-fcbcf9d8-ab4f-4469-a848-7742f1870b22 button.colab-df-convert');\n",
              "        buttonEl.style.display =\n",
              "          google.colab.kernel.accessAllowed ? 'block' : 'none';\n",
              "\n",
              "        async function convertToInteractive(key) {\n",
              "          const element = document.querySelector('#df-fcbcf9d8-ab4f-4469-a848-7742f1870b22');\n",
              "          const dataTable =\n",
              "            await google.colab.kernel.invokeFunction('convertToInteractive',\n",
              "                                                     [key], {});\n",
              "          if (!dataTable) return;\n",
              "\n",
              "          const docLinkHtml = 'Like what you see? Visit the ' +\n",
              "            '<a target=\"_blank\" href=https://colab.research.google.com/notebooks/data_table.ipynb>data table notebook</a>'\n",
              "            + ' to learn more about interactive tables.';\n",
              "          element.innerHTML = '';\n",
              "          dataTable['output_type'] = 'display_data';\n",
              "          await google.colab.output.renderOutput(dataTable, element);\n",
              "          const docLink = document.createElement('div');\n",
              "          docLink.innerHTML = docLinkHtml;\n",
              "          element.appendChild(docLink);\n",
              "        }\n",
              "      </script>\n",
              "    </div>\n",
              "  </div>\n",
              "  "
            ]
          },
          "metadata": {},
          "execution_count": 60
        }
      ]
    },
    {
      "cell_type": "code",
      "source": [
        "from sentence_transformers import SentenceTransformer, util\n",
        "model = SentenceTransformer('all-MiniLM-L6-v2')\n",
        "\n",
        "import nltk\n",
        "from nltk.stem import WordNetLemmatizer\n",
        "from nltk.corpus import stopwords\n",
        "nltk.download('punkt')\n",
        "nltk.download('stopwords')\n",
        "nltk.download('wordnet')\n",
        "nltk.download('omw-1.4')"
      ],
      "metadata": {
        "colab": {
          "base_uri": "https://localhost:8080/"
        },
        "id": "x93sebSc4M-u",
        "outputId": "94907323-ad70-41dd-df28-142f83307069"
      },
      "execution_count": 95,
      "outputs": [
        {
          "output_type": "stream",
          "name": "stderr",
          "text": [
            "[nltk_data] Downloading package punkt to /root/nltk_data...\n",
            "[nltk_data]   Package punkt is already up-to-date!\n",
            "[nltk_data] Downloading package stopwords to /root/nltk_data...\n",
            "[nltk_data]   Package stopwords is already up-to-date!\n",
            "[nltk_data] Downloading package wordnet to /root/nltk_data...\n",
            "[nltk_data]   Package wordnet is already up-to-date!\n",
            "[nltk_data] Downloading package omw-1.4 to /root/nltk_data...\n",
            "[nltk_data]   Package omw-1.4 is already up-to-date!\n"
          ]
        },
        {
          "output_type": "execute_result",
          "data": {
            "text/plain": [
              "True"
            ]
          },
          "metadata": {},
          "execution_count": 95
        }
      ]
    },
    {
      "cell_type": "code",
      "source": [
        "# Model Trained and saved\n",
        "#embeddings1 = model.encode(df['question'].astype(str), convert_to_tensor=True)\n",
        "#orch.save(embeddings1, 'dataset/embedding.pt')"
      ],
      "metadata": {
        "id": "hcJXD8gC4M0i"
      },
      "execution_count": 96,
      "outputs": []
    },
    {
      "cell_type": "code",
      "source": [
        "# Model load\n",
        "embedded = torch.load('dataset/embedding.pt')"
      ],
      "metadata": {
        "id": "K3EssBq1_EWM"
      },
      "execution_count": 97,
      "outputs": []
    },
    {
      "cell_type": "code",
      "source": [
        "text = \"Sir can you please help me\"\n",
        "\n",
        "text = [str(text)]\n",
        "new_embeddings1 = model.encode(text, convert_to_tensor=True)\n",
        "cosine_scores = util.cos_sim(embedded, new_embeddings1)\n",
        "max_score_index = torch.argmax(cosine_scores).item()\n",
        "df.iloc[max_score_index]"
      ],
      "metadata": {
        "colab": {
          "base_uri": "https://localhost:8080/"
        },
        "id": "3NegAw90_vPV",
        "outputId": "e236fa45-cfad-4b8b-ab87-789dda9a217a"
      },
      "execution_count": 101,
      "outputs": [
        {
          "output_type": "execute_result",
          "data": {
            "text/plain": [
              "question      sir can please help me\n",
              "answer      Yes tell How we can help\n",
              "Name: 379631, dtype: object"
            ]
          },
          "metadata": {},
          "execution_count": 101
        }
      ]
    },
    {
      "cell_type": "code",
      "source": [
        "sentences = nltk.sent_tokenize(df.iloc[max_score_index].answer)\n",
        "lemmatizer = WordNetLemmatizer()\n",
        "# Lemmatization\n",
        "for i in range(len(sentences)):\n",
        "    words = nltk.word_tokenize(sentences[i])\n",
        "    words = [lemmatizer.lemmatize(word) for word in words if word not in set(stopwords.words('english'))]\n",
        "    sentences[i] = ' '.join(words)\n",
        "sentences[0]"
      ],
      "metadata": {
        "colab": {
          "base_uri": "https://localhost:8080/",
          "height": 35
        },
        "id": "lMTjNBzHDU6A",
        "outputId": "cea30c4d-6d17-4f1f-e771-aad705ef31bc"
      },
      "execution_count": 102,
      "outputs": [
        {
          "output_type": "execute_result",
          "data": {
            "text/plain": [
              "'Yes tell How help'"
            ],
            "application/vnd.google.colaboratory.intrinsic+json": {
              "type": "string"
            }
          },
          "metadata": {},
          "execution_count": 102
        }
      ]
    },
    {
      "cell_type": "code",
      "source": [],
      "metadata": {
        "id": "uGg5LeXyDPZi"
      },
      "execution_count": 100,
      "outputs": []
    }
  ]
}